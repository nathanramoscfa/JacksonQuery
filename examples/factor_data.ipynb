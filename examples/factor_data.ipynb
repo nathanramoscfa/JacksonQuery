{
 "cells": [
  {
   "cell_type": "code",
   "execution_count": 1,
   "id": "f6b8821b-c3dd-45d0-abd8-fc31e719bac4",
   "metadata": {
    "tags": []
   },
   "outputs": [],
   "source": [
    "import os\n",
    "import sys\n",
    "\n",
    "# Add the root directory to the system path\n",
    "sys.path.append(os.path.abspath(\"..\"))"
   ]
  },
  {
   "cell_type": "code",
   "execution_count": 2,
   "id": "7ddfcb85-337f-4811-8833-b1bfd7ff64ea",
   "metadata": {
    "tags": []
   },
   "outputs": [],
   "source": [
    "from portfolio_optimization import factor_data"
   ]
  },
  {
   "cell_type": "code",
   "execution_count": 3,
   "id": "a0505ba8-1c4e-4592-aacc-92eb6ce9ab25",
   "metadata": {
    "tags": []
   },
   "outputs": [],
   "source": [
    "classification_schema, management_fees, manager_tenures, portfolio_turnovers, total_net_assets = factor_data.load_data()"
   ]
  },
  {
   "cell_type": "code",
   "execution_count": 4,
   "id": "435a26f1-124d-45e8-a095-fb3bc40207f7",
   "metadata": {
    "tags": []
   },
   "outputs": [],
   "source": [
    "data = factor_data.process_data()"
   ]
  },
  {
   "cell_type": "code",
   "execution_count": 5,
   "id": "38b9a098-8a45-4619-b980-9803eec13989",
   "metadata": {
    "tags": []
   },
   "outputs": [
    {
     "data": {
      "text/html": [
       "<div>\n",
       "<style scoped>\n",
       "    .dataframe tbody tr th:only-of-type {\n",
       "        vertical-align: middle;\n",
       "    }\n",
       "\n",
       "    .dataframe tbody tr th {\n",
       "        vertical-align: top;\n",
       "    }\n",
       "\n",
       "    .dataframe thead th {\n",
       "        text-align: right;\n",
       "    }\n",
       "</style>\n",
       "<table border=\"1\" class=\"dataframe\">\n",
       "  <thead>\n",
       "    <tr style=\"text-align: right;\">\n",
       "      <th></th>\n",
       "      <th>Morningstar Category</th>\n",
       "      <th>Fund Expense Fee%</th>\n",
       "      <th>Manager Tenure (Years)</th>\n",
       "      <th>Portfolio Turnover%</th>\n",
       "    </tr>\n",
       "    <tr>\n",
       "      <th>Subaccount Name</th>\n",
       "      <th></th>\n",
       "      <th></th>\n",
       "      <th></th>\n",
       "      <th></th>\n",
       "    </tr>\n",
       "  </thead>\n",
       "  <tbody>\n",
       "    <tr>\n",
       "      <th>JNL_American_Funds_Balanced</th>\n",
       "      <td>Moderate Allocation</td>\n",
       "      <td>0.91</td>\n",
       "      <td>4.90</td>\n",
       "      <td>43.4</td>\n",
       "    </tr>\n",
       "    <tr>\n",
       "      <th>JNL_American_Funds_Bond_Fund_of_America</th>\n",
       "      <td>Intermediate Core Bond</td>\n",
       "      <td>0.82</td>\n",
       "      <td>2.13</td>\n",
       "      <td>82.0</td>\n",
       "    </tr>\n",
       "    <tr>\n",
       "      <th>JNL_American_Funds_Capital_Income_Builder</th>\n",
       "      <td>Global Allocation</td>\n",
       "      <td>0.95</td>\n",
       "      <td>3.08</td>\n",
       "      <td>60.8</td>\n",
       "    </tr>\n",
       "    <tr>\n",
       "      <th>JNL_American_Funds_Capital_World_Bond</th>\n",
       "      <td>Global Bond</td>\n",
       "      <td>1.04</td>\n",
       "      <td>2.18</td>\n",
       "      <td>90.8</td>\n",
       "    </tr>\n",
       "    <tr>\n",
       "      <th>JNL_American_Funds_Global_Growth</th>\n",
       "      <td>Global Large-Stock Growth</td>\n",
       "      <td>1.06</td>\n",
       "      <td>6.27</td>\n",
       "      <td>20.6</td>\n",
       "    </tr>\n",
       "    <tr>\n",
       "      <th>...</th>\n",
       "      <td>...</td>\n",
       "      <td>...</td>\n",
       "      <td>...</td>\n",
       "      <td>...</td>\n",
       "    </tr>\n",
       "    <tr>\n",
       "      <th>JNL_WMC_Balanced</th>\n",
       "      <td>Moderate Allocation</td>\n",
       "      <td>0.72</td>\n",
       "      <td>4.29</td>\n",
       "      <td>75.8</td>\n",
       "    </tr>\n",
       "    <tr>\n",
       "      <th>JNL_WMC_Equity_Income</th>\n",
       "      <td>Large Value</td>\n",
       "      <td>0.89</td>\n",
       "      <td>2.13</td>\n",
       "      <td>39.8</td>\n",
       "    </tr>\n",
       "    <tr>\n",
       "      <th>JNL_WMC_Global_Real_Estate</th>\n",
       "      <td>Global Real Estate</td>\n",
       "      <td>1.03</td>\n",
       "      <td>2.13</td>\n",
       "      <td>101.8</td>\n",
       "    </tr>\n",
       "    <tr>\n",
       "      <th>JNL_WMC_Government_Money_Market</th>\n",
       "      <td>Money Market-Taxable</td>\n",
       "      <td>0.56</td>\n",
       "      <td>4.44</td>\n",
       "      <td>0.0</td>\n",
       "    </tr>\n",
       "    <tr>\n",
       "      <th>JNL_WMC_Value</th>\n",
       "      <td>Large Value</td>\n",
       "      <td>0.78</td>\n",
       "      <td>3.00</td>\n",
       "      <td>37.8</td>\n",
       "    </tr>\n",
       "  </tbody>\n",
       "</table>\n",
       "<p>115 rows × 4 columns</p>\n",
       "</div>"
      ],
      "text/plain": [
       "                                                Morningstar Category  \\\n",
       "Subaccount Name                                                        \n",
       "JNL_American_Funds_Balanced                      Moderate Allocation   \n",
       "JNL_American_Funds_Bond_Fund_of_America       Intermediate Core Bond   \n",
       "JNL_American_Funds_Capital_Income_Builder          Global Allocation   \n",
       "JNL_American_Funds_Capital_World_Bond                    Global Bond   \n",
       "JNL_American_Funds_Global_Growth           Global Large-Stock Growth   \n",
       "...                                                              ...   \n",
       "JNL_WMC_Balanced                                 Moderate Allocation   \n",
       "JNL_WMC_Equity_Income                                    Large Value   \n",
       "JNL_WMC_Global_Real_Estate                        Global Real Estate   \n",
       "JNL_WMC_Government_Money_Market                 Money Market-Taxable   \n",
       "JNL_WMC_Value                                            Large Value   \n",
       "\n",
       "                                           Fund Expense Fee%  \\\n",
       "Subaccount Name                                                \n",
       "JNL_American_Funds_Balanced                             0.91   \n",
       "JNL_American_Funds_Bond_Fund_of_America                 0.82   \n",
       "JNL_American_Funds_Capital_Income_Builder               0.95   \n",
       "JNL_American_Funds_Capital_World_Bond                   1.04   \n",
       "JNL_American_Funds_Global_Growth                        1.06   \n",
       "...                                                      ...   \n",
       "JNL_WMC_Balanced                                        0.72   \n",
       "JNL_WMC_Equity_Income                                   0.89   \n",
       "JNL_WMC_Global_Real_Estate                              1.03   \n",
       "JNL_WMC_Government_Money_Market                         0.56   \n",
       "JNL_WMC_Value                                           0.78   \n",
       "\n",
       "                                           Manager Tenure (Years)  \\\n",
       "Subaccount Name                                                     \n",
       "JNL_American_Funds_Balanced                                  4.90   \n",
       "JNL_American_Funds_Bond_Fund_of_America                      2.13   \n",
       "JNL_American_Funds_Capital_Income_Builder                    3.08   \n",
       "JNL_American_Funds_Capital_World_Bond                        2.18   \n",
       "JNL_American_Funds_Global_Growth                             6.27   \n",
       "...                                                           ...   \n",
       "JNL_WMC_Balanced                                             4.29   \n",
       "JNL_WMC_Equity_Income                                        2.13   \n",
       "JNL_WMC_Global_Real_Estate                                   2.13   \n",
       "JNL_WMC_Government_Money_Market                              4.44   \n",
       "JNL_WMC_Value                                                3.00   \n",
       "\n",
       "                                           Portfolio Turnover%  \n",
       "Subaccount Name                                                 \n",
       "JNL_American_Funds_Balanced                               43.4  \n",
       "JNL_American_Funds_Bond_Fund_of_America                   82.0  \n",
       "JNL_American_Funds_Capital_Income_Builder                 60.8  \n",
       "JNL_American_Funds_Capital_World_Bond                     90.8  \n",
       "JNL_American_Funds_Global_Growth                          20.6  \n",
       "...                                                        ...  \n",
       "JNL_WMC_Balanced                                          75.8  \n",
       "JNL_WMC_Equity_Income                                     39.8  \n",
       "JNL_WMC_Global_Real_Estate                               101.8  \n",
       "JNL_WMC_Government_Money_Market                            0.0  \n",
       "JNL_WMC_Value                                             37.8  \n",
       "\n",
       "[115 rows x 4 columns]"
      ]
     },
     "execution_count": 5,
     "metadata": {},
     "output_type": "execute_result"
    }
   ],
   "source": [
    "data"
   ]
  },
  {
   "cell_type": "code",
   "execution_count": null,
   "id": "ea5b8ed1-659e-4494-9f67-63ba9ae873d0",
   "metadata": {},
   "outputs": [],
   "source": []
  }
 ],
 "metadata": {
  "kernelspec": {
   "display_name": "Python 3 (ipykernel)",
   "language": "python",
   "name": "python3"
  },
  "language_info": {
   "codemirror_mode": {
    "name": "ipython",
    "version": 3
   },
   "file_extension": ".py",
   "mimetype": "text/x-python",
   "name": "python",
   "nbconvert_exporter": "python",
   "pygments_lexer": "ipython3",
   "version": "3.11.3"
  }
 },
 "nbformat": 4,
 "nbformat_minor": 5
}
