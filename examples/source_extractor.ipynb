{
 "cells": [
  {
   "cell_type": "code",
   "execution_count": 1,
   "id": "6e10ee1a-18d9-4309-ba19-016a7d28e78c",
   "metadata": {},
   "outputs": [],
   "source": [
    "import keyring\n",
    "from selenium import webdriver\n",
    "from selenium.webdriver.chrome.service import Service\n",
    "from selenium.webdriver.common.by import By\n",
    "from selenium.common.exceptions import NoSuchElementException\n",
    "from selenium.webdriver.support.ui import WebDriverWait\n",
    "from selenium.webdriver.support import expected_conditions as EC\n",
    "from tqdm import tqdm"
   ]
  },
  {
   "cell_type": "code",
   "execution_count": 2,
   "id": "ac8131f9-0310-4a59-8e8d-1717e17a4dec",
   "metadata": {},
   "outputs": [],
   "source": [
    "def get_login_details(service_name):\n",
    "    username = keyring.get_password(service_name, 'username')\n",
    "    password = keyring.get_password(service_name, 'password')\n",
    "    return username, password\n",
    "\n",
    "\n",
    "def find_and_click_element(driver, search_type, identifier):\n",
    "    element = driver.find_element(search_type, identifier)\n",
    "    element.click()\n",
    "    driver.implicitly_wait(5)\n",
    "\n",
    "\n",
    "def wait_and_click_element(driver, search_type, identifier, wait_time=10):\n",
    "    element = WebDriverWait(driver, wait_time).until(EC.presence_of_element_located((search_type, identifier)))\n",
    "    element.click()\n",
    "    driver.implicitly_wait(5)\n",
    "    \n",
    "def two_factor_authentication(web_driver):\n",
    "    find_and_click_element(web_driver, By.ID, 'mfaForm:text')\n",
    "\n",
    "    # Wait for the page to navigate and the passcodeForm:code element to be present\n",
    "    WebDriverWait(web_driver, 10).until(EC.presence_of_element_located((By.ID, 'passcodeForm:code')))\n",
    "\n",
    "    # Get the passcode from the user\n",
    "    passcode = input(\"Enter the passcode sent to your phone: \")\n",
    "\n",
    "    # Enter the passcode\n",
    "    web_driver.find_element(By.ID, 'passcodeForm:code').send_keys(passcode)\n",
    "\n",
    "    # Wait for the continueButton to be clickable\n",
    "    WebDriverWait(web_driver, 10).until(EC.element_to_be_clickable((By.ID, 'passcodeForm:continueButton')))\n",
    "\n",
    "    # Click Verify button\n",
    "    find_and_click_element(web_driver, By.ID, 'passcodeForm:continueButton')\n",
    "\n",
    "    # Wait for the next page to load\n",
    "    web_driver.implicitly_wait(60)"
   ]
  },
  {
   "cell_type": "code",
   "execution_count": 3,
   "id": "c3e106aa-e4c7-4116-9ab5-aba1bb9db547",
   "metadata": {},
   "outputs": [
    {
     "name": "stdin",
     "output_type": "stream",
     "text": [
      "Enter the passcode sent to your phone:  635343\n"
     ]
    },
    {
     "name": "stdout",
     "output_type": "stream",
     "text": [
      "NO THANKS element not found\n"
     ]
    }
   ],
   "source": [
    "options = webdriver.ChromeOptions()\n",
    "options.add_argument('--disable-gpu')\n",
    "options.add_argument('--no-sandbox')\n",
    "\n",
    "service = Service('../webdrivers/chromedriver.exe')\n",
    "driver = webdriver.Chrome(service=service, options=options)\n",
    "driver.get('https://www.jackson.com/login/login.xhtml')\n",
    "\n",
    "# Login\n",
    "web_username, web_password = get_login_details('jackson')\n",
    "\n",
    "driver.find_element(By.NAME, 'loginForm:userName').send_keys(web_username)\n",
    "driver.find_element(By.NAME, 'loginForm:password').send_keys(web_password)\n",
    "\n",
    "find_and_click_element(driver, By.ID, 'loginForm:loginLink')\n",
    "\n",
    "# Wait for 2FA to complete\n",
    "two_factor_authentication(driver)\n",
    "\n",
    "try:\n",
    "    find_and_click_element(driver, By.CSS_SELECTOR, '#onetrust-reject-all-handler')\n",
    "except NoSuchElementException:\n",
    "    print(\"REJECT COOKIES element not found\")\n",
    "\n",
    "try:\n",
    "    find_and_click_element(driver, By.CSS_SELECTOR, '#NoThanksButton')\n",
    "except NoSuchElementException:\n",
    "    print(\"NO THANKS element not found\")\n",
    "\n",
    "# Wait for element to load and then click\n",
    "wait_and_click_element(driver, By.LINK_TEXT, 'Portfolio Construction Tool')\n",
    "wait_and_click_element(driver, By.ID, 'button132358')\n",
    "try:\n",
    "    wait_and_click_element(driver, By.LINK_TEXT, 'Edit')\n",
    "    WebDriverWait(driver, 30).until(EC.presence_of_element_located((By.CSS_SELECTOR, '#perfFundNameColumn > a')))\n",
    "except Exception as e:\n",
    "    print(\"An error occurred: \", e)\n",
    "\n",
    "# Wait for the elements to be present\n",
    "wait = WebDriverWait(driver, 10)\n",
    "wait.until(EC.presence_of_element_located((By.CLASS_NAME, 'btm-nav')))\n",
    "wait.until(EC.presence_of_element_located((By.CLASS_NAME, 'btm-allocation-label')))\n",
    "\n",
    "js_script = '''\\\n",
    "document.getElementsByClassName('btm-nav')[0].setAttribute(\"hidden\",\"\");\n",
    "document.getElementsByClassName('btm-allocation-label')[0].setAttribute(\"hidden\",\"\");\n",
    "'''\n",
    "driver.execute_script(js_script)"
   ]
  },
  {
   "cell_type": "code",
   "execution_count": 8,
   "id": "56bc6ad5-84c2-4cec-8ad8-c816116e4a8e",
   "metadata": {},
   "outputs": [
    {
     "name": "stdout",
     "output_type": "stream",
     "text": [
      "Number of table rows: 118\n"
     ]
    }
   ],
   "source": [
    "# Get the number of rows in the table\n",
    "driver.implicitly_wait(20)\n",
    "table_rows = driver.find_elements(\n",
    "    By.CSS_SELECTOR, \"#ungroupedSubCategoryPerfTable > tr\")\n",
    "num_rows = len(table_rows)\n",
    "print('Number of table rows: {}'.format(num_rows))"
   ]
  },
  {
   "cell_type": "code",
   "execution_count": 11,
   "id": "4d2f578d-b1c8-4ee3-8cc7-90ef355cea92",
   "metadata": {
    "tags": []
   },
   "outputs": [
    {
     "name": "stderr",
     "output_type": "stream",
     "text": [
      " 13%|██████████████████████████████▋                                                                                                                                                                                                                  | 15/118 [00:38<05:18,  3.09s/it]"
     ]
    },
    {
     "name": "stdout",
     "output_type": "stream",
     "text": [
      "Link not found for subaccount: JNL/AB Sustainable Global Thematic2, 4, 5, 6, 7, 12, 20, 22, 27\n",
      "Fund ID: 725\n"
     ]
    },
    {
     "name": "stderr",
     "output_type": "stream",
     "text": [
      " 27%|█████████████████████████████████████████████████████████████████▎                                                                                                                                                                               | 32/118 [01:14<03:54,  2.73s/it]"
     ]
    },
    {
     "name": "stdout",
     "output_type": "stream",
     "text": [
      "Link not found for subaccount: JNL/BlackRock® Global Natural Resources2, 4, 5, 6, 12, 41, 42, 43, 44, 45\n",
      "Fund ID: 66\n"
     ]
    },
    {
     "name": "stderr",
     "output_type": "stream",
     "text": [
      " 66%|███████████████████████████████████████████████████████████████████████████████████████████████████████████████████████████████████████████████████████████████▎                                                                                 | 78/118 [02:46<01:43,  2.58s/it]"
     ]
    },
    {
     "name": "stdout",
     "output_type": "stream",
     "text": [
      "Link not found for subaccount: JNL/Mellon Materials Sector4, 6, 7, 42, 44, 45, 58\n",
      "Fund ID: 370\n"
     ]
    },
    {
     "name": "stderr",
     "output_type": "stream",
     "text": [
      "100%|████████████████████████████████████████████████████████████████████████████████████████████████████████████████████████████████████████████████████████████████████████████████████████████████████████████████████████████████████████████████| 118/118 [04:06<00:00,  2.09s/it]\n"
     ]
    }
   ],
   "source": [
    "# Iterate over each row\n",
    "for i in tqdm(range(1, num_rows + 1)):\n",
    "    main_window_handle = driver.current_window_handle  # Save the main window handle\n",
    "    try:\n",
    "        report_link = driver.find_element(By.CSS_SELECTOR, \"#ungroupedSubCategoryPerfTable > tr:nth-child({}) > \"\n",
    "                                                           \"td:nth-child(1) > a\".format(i))\n",
    "        report_link_name = report_link.text.replace('/', '_').replace('®', '').replace('.', '').replace(\n",
    "            ' ', '_').replace('-', '_')\n",
    "        report_link.click()\n",
    "        driver.implicitly_wait(5)\n",
    "\n",
    "        # Switch to new window\n",
    "        for handle in driver.window_handles:\n",
    "            if handle != main_window_handle:\n",
    "                driver.switch_to.window(handle)\n",
    "                break\n",
    "\n",
    "        page_source = driver.page_source\n",
    "        with open(f'../data/page_contents/{report_link_name}.html', 'w', encoding='utf-8') as f:\n",
    "            f.write(page_source)\n",
    "        driver.close()\n",
    "\n",
    "        # Switch back to the main window\n",
    "        driver.switch_to.window(main_window_handle)\n",
    "    except NoSuchElementException:\n",
    "        # Print the name of the subaccount if the link is not found\n",
    "        try:\n",
    "            report_link_name = driver.find_element(\n",
    "                By.CSS_SELECTOR, \"#ungroupedSubCategoryPerfTable > \"\n",
    "                                 \"tr:nth-child({}) > td:nth-child(1)\".format(i)).text\n",
    "            print(f\"Link not found for subaccount: {report_link_name}\")\n",
    "        except NoSuchElementException:\n",
    "            print(f\"Row {i} link not found.\")\n",
    "        continue"
   ]
  },
  {
   "cell_type": "code",
   "execution_count": null,
   "id": "0c4dab87-6c08-41dc-bb30-e03b3f6afe3b",
   "metadata": {},
   "outputs": [],
   "source": []
  }
 ],
 "metadata": {
  "kernelspec": {
   "display_name": "Python 3 (ipykernel)",
   "language": "python",
   "name": "python3"
  },
  "language_info": {
   "codemirror_mode": {
    "name": "ipython",
    "version": 3
   },
   "file_extension": ".py",
   "mimetype": "text/x-python",
   "name": "python",
   "nbconvert_exporter": "python",
   "pygments_lexer": "ipython3",
   "version": "3.11.3"
  }
 },
 "nbformat": 4,
 "nbformat_minor": 5
}
